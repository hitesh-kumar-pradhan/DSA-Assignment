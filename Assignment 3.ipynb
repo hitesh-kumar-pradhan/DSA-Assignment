{
 "cells": [
  {
   "cell_type": "markdown",
   "id": "d3159025",
   "metadata": {},
   "source": [
    "# Assignment 3"
   ]
  },
  {
   "cell_type": "markdown",
   "id": "ca939f5f",
   "metadata": {},
   "source": [
    "**Question 1\n",
    "Given an integer array nums of length n and an integer target, find three integers\n",
    "in nums such that the sum is closest to the target.\n",
    "Return the sum of the three integers.**\n",
    "\n",
    "**You may assume that each input would have exactly one solution.**\n",
    "\n",
    "**Example 1:**\n",
    "\n",
    "Input: nums = [-1,2,1,-4], target = 1\n",
    "\n",
    "Output: 2\n",
    "\n",
    "**Explanation: The sum that is closest to the target is 2. (-1 + 2 + 1 = 2).**"
   ]
  },
  {
   "cell_type": "code",
   "execution_count": 1,
   "id": "01bb0e26",
   "metadata": {},
   "outputs": [],
   "source": [
    "class Solution:\n",
    "    def threeSumClosest(self, nums: list[int], target: int) -> int:\n",
    "        # Sort nums for 2 pointer method\n",
    "        nums.sort()\n",
    "        # Initialize answer\n",
    "        answer = nums[0] + nums[1] + nums[2]\n",
    "        \n",
    "        # Iterate the left integer\n",
    "        for left in range(len(nums) - 2):\n",
    "            # 2 pointer method on middle and right integers\n",
    "            middle = left + 1\n",
    "            right = len(nums) - 1\n",
    "            while middle < right:\n",
    "                # Compute guess from 3 pointers\n",
    "                guess = nums[left] + nums[middle] + nums[right]\n",
    "                # Update answer if necessary\n",
    "                if abs(guess - target) < abs(answer - target):\n",
    "                    answer = guess\n",
    "                # Guess is too small, increase guess\n",
    "                if guess < target:\n",
    "                    middle += 1\n",
    "                # Guess is too big, decrease guess\n",
    "                elif guess > target:\n",
    "                    right -= 1\n",
    "                # Target found, return it\n",
    "                else:\n",
    "                    return target\n",
    "            \n",
    "        return answer"
   ]
  },
  {
   "cell_type": "code",
   "execution_count": 2,
   "id": "7a9270ec",
   "metadata": {},
   "outputs": [
    {
     "name": "stdout",
     "output_type": "stream",
     "text": [
      "The array is: [-1, 2, 1, -4]\n",
      "The sum that is closest to the target is: 2\n"
     ]
    }
   ],
   "source": [
    "ob1 = Solution()\n",
    "nums = [-1,2,1,-4]\n",
    "target = 1\n",
    "print(\"The array is:\",nums)\n",
    "print(\"The sum that is closest to the target is:\",ob1.threeSumClosest(nums,target))"
   ]
  },
  {
   "cell_type": "code",
   "execution_count": null,
   "id": "29101753",
   "metadata": {},
   "outputs": [],
   "source": []
  },
  {
   "cell_type": "markdown",
   "id": "09397121",
   "metadata": {},
   "source": [
    "**Question 2\n",
    "Given an array nums of n integers, return an array of all the unique quadruplets\n",
    "[nums[a], nums[b], nums[c], nums[d]] such that:\n",
    "           ● 0 <= a, b, c, d < n\n",
    "           ● a, b, c, and d are distinct.\n",
    "           ● nums[a] + nums[b] + nums[c] + nums[d] == target**\n",
    "\n",
    "**You may return the answer in any order.**\n",
    "\n",
    "**Example 1:**\n",
    "\n",
    "Input: nums = [1,0,-1,0,-2,2], target = 0\n",
    "\n",
    "Output: [[-2,-1,1,2],[-2,0,0,2],[-1,0,0,1]]"
   ]
  },
  {
   "cell_type": "code",
   "execution_count": 3,
   "id": "04128dd8",
   "metadata": {},
   "outputs": [],
   "source": [
    "class Solution:\n",
    "    def fourSum(self, nums: list[int], target: int) -> list[list[int]]:\n",
    "        nums.sort()\n",
    "        n = len(nums)\n",
    "        result = []\n",
    "        for i in range(n - 3):\n",
    "            if i > 0 and nums[i] == nums[i - 1]:\n",
    "                continue\n",
    "            for j in range(i + 1, n - 2):\n",
    "                if j > i + 1 and nums[j] == nums[j - 1]:\n",
    "                    continue\n",
    "                l, r = j + 1, n - 1\n",
    "                while l < r:\n",
    "                    s = nums[i] + nums[j] + nums[l] + nums[r]\n",
    "                    if s == target:\n",
    "                        result.append([nums[i], nums[j], nums[l], nums[r]])\n",
    "                        while l < r and nums[l] == nums[l + 1]:\n",
    "                            l += 1\n",
    "                        while l < r and nums[r] == nums[r - 1]:\n",
    "                            r -= 1\n",
    "                        l += 1\n",
    "                        r -= 1\n",
    "                    elif s < target:\n",
    "                        l += 1\n",
    "                    else:\n",
    "                        r -= 1\n",
    "        return result"
   ]
  },
  {
   "cell_type": "code",
   "execution_count": 4,
   "id": "40d3318b",
   "metadata": {},
   "outputs": [
    {
     "name": "stdout",
     "output_type": "stream",
     "text": [
      "The array is: [1, 0, -1, 0, -2, 2]\n",
      "The result is: [[-2, -1, 1, 2], [-2, 0, 0, 2], [-1, 0, 0, 1]]\n"
     ]
    }
   ],
   "source": [
    "ob1 = Solution()\n",
    "nums = [1,0,-1,0,-2,2]\n",
    "target = 0\n",
    "print(\"The array is:\",nums)\n",
    "print(\"The result is:\",ob1.fourSum(nums,target))"
   ]
  },
  {
   "cell_type": "code",
   "execution_count": null,
   "id": "82cdaf0a",
   "metadata": {},
   "outputs": [],
   "source": []
  },
  {
   "cell_type": "markdown",
   "id": "a6909196",
   "metadata": {},
   "source": [
    "**Question 3**\n",
    "**A permutation of an array of integers is an arrangement of its members into a\n",
    "sequence or linear order.**\n",
    "\n",
    "**For example, for arr = [1,2,3], the following are all the permutations of arr:\n",
    "[1,2,3], [1,3,2], [2, 1, 3], [2, 3, 1], [3,1,2], [3,2,1].**\n",
    "\n",
    "**The next permutation of an array of integers is the next lexicographically greater\n",
    "permutation of its integer. More formally, if all the permutations of the array are\n",
    "sorted in one container according to their lexicographical order, then the next\n",
    "permutation of that array is the permutation that follows it in the sorted container.**\n",
    "\n",
    "**If such an arrangement is not possible, the array must be rearranged as the\n",
    "lowest possible order (i.e., sorted in ascending order).**\n",
    "\n",
    "* For example, the next permutation of arr = [1,2,3] is [1,3,2].\n",
    "* Similarly, the next permutation of arr = [2,3,1] is [3,1,2].\n",
    "* While the next permutation of arr = [3,2,1] is [1,2,3] because [3,2,1] does not\n",
    "have a lexicographical larger rearrangement.\n",
    "\n",
    "**Given an array of integers nums, find the next permutation of nums.\n",
    "The replacement must be in place and use only constant extra memory.**\n",
    "\n",
    "**Example 1:**\n",
    "\n",
    "Input: nums = [1,2,3]\n",
    "\n",
    "Output: [1,3,2]\n",
    "\n"
   ]
  },
  {
   "cell_type": "code",
   "execution_count": 5,
   "id": "8eadae0d",
   "metadata": {},
   "outputs": [
    {
     "name": "stdout",
     "output_type": "stream",
     "text": [
      "The array is: [1, 2, 3]\n",
      "[1, 3, 2]\n"
     ]
    }
   ],
   "source": [
    "def nextPermutation(nums):\n",
    "    # Step 1: Find the first pair of adjacent elements where nums[i] < nums[i+1]\n",
    "    i = len(nums) - 2\n",
    "    while i >= 0 and nums[i] >= nums[i+1]:\n",
    "        i -= 1\n",
    "    \n",
    "    # Step 2: If no such pair is found, reverse the entire array\n",
    "    if i == -1:\n",
    "        nums.reverse()\n",
    "        return\n",
    "    \n",
    "    # Step 3: Find the first element greater than nums[i] starting from the right\n",
    "    j = len(nums) - 1\n",
    "    while nums[j] <= nums[i]:\n",
    "        j -= 1\n",
    "    \n",
    "    # Step 4: Swap nums[i] with nums[j]\n",
    "    nums[i], nums[j] = nums[j], nums[i]\n",
    "    \n",
    "    # Step 5: Reverse the subarray to the right of nums[i]\n",
    "    left = i + 1\n",
    "    right = len(nums) - 1\n",
    "    while left < right:\n",
    "        nums[left], nums[right] = nums[right], nums[left]\n",
    "        left += 1\n",
    "        right -= 1\n",
    "\n",
    "\n",
    "nums = [1,2,3]\n",
    "print(\"The array is:\",nums)\n",
    "nextPermutation(nums)\n",
    "print(nums)"
   ]
  },
  {
   "cell_type": "markdown",
   "id": "5501a5e5",
   "metadata": {},
   "source": [
    "**Question 4\n",
    "Given a sorted array of distinct integers and a target value, return the index if the\n",
    "target is found. If not, return the index where it would be if it were inserted in\n",
    "order.**\n",
    "\n",
    "**You must write an algorithm with O(log n) runtime complexity.**\n",
    "\n",
    "**Example 1:**\n",
    "\n",
    "Input: nums = [1,3,5,6], target = 5\n",
    "\n",
    "Output: 2"
   ]
  },
  {
   "cell_type": "code",
   "execution_count": 6,
   "id": "4c089c53",
   "metadata": {},
   "outputs": [
    {
     "name": "stdout",
     "output_type": "stream",
     "text": [
      "The array is: [1, 3, 5, 6] , target is: 5\n",
      "The index position is: 2\n"
     ]
    }
   ],
   "source": [
    "import math\n",
    "class Solution:\n",
    "    def searchInsert(self, nums: list[int],target: int) -> int:\n",
    "        start, end = 0, len(nums) - 1\n",
    "        \n",
    "        if target > nums[len(nums) - 1]:\n",
    "            return len(nums)\n",
    "        if target < nums[0]:\n",
    "            return 0\n",
    "\n",
    "        while start <= end:\n",
    "            mid = math.floor((start + end) / 2) \n",
    "            if nums[mid] == target:\n",
    "                return mid\n",
    "            elif nums[mid] < target:\n",
    "                start = mid + 1\n",
    "            else:\n",
    "                end = mid - 1\n",
    "\n",
    "        return start\n",
    "    \n",
    "ob1 = Solution()\n",
    "nums = [1,3,5,6]\n",
    "target = 5\n",
    "print(\"The array is:\",nums, \", target is:\",target)\n",
    "print(\"The index position is:\",ob1.searchInsert(nums,target))    "
   ]
  },
  {
   "cell_type": "code",
   "execution_count": null,
   "id": "50fc9a43",
   "metadata": {},
   "outputs": [],
   "source": []
  },
  {
   "cell_type": "markdown",
   "id": "8324e208",
   "metadata": {},
   "source": [
    "**Question 5**\n",
    "**You are given a large integer represented as an integer array digits, where each\n",
    "digits[i] is the ith digit of the integer. The digits are ordered from most significant\n",
    "to least significant in left-to-right order. The large integer does not contain any\n",
    "leading 0's.**\n",
    "\n",
    "**Increment the large integer by one and return the resulting array of digits.**\n",
    "\n",
    "**Example 1:**\n",
    "\n",
    "Input: digits = [1,2,3]\n",
    "\n",
    "Output: [1,2,4]\n",
    "\n",
    "**Explanation:** \n",
    "The array represents the integer 123.\n",
    "\n",
    "Incrementing by one gives 123 + 1 = 124.\n",
    "\n",
    "Thus, the result should be [1,2,4].\n",
    "\n"
   ]
  },
  {
   "cell_type": "code",
   "execution_count": 7,
   "id": "8785f15d",
   "metadata": {},
   "outputs": [
    {
     "name": "stdout",
     "output_type": "stream",
     "text": [
      "The array is: [1, 2, 3]\n",
      "The result is: [1, 2, 4]\n"
     ]
    }
   ],
   "source": [
    "class Solution:\n",
    "    def plusOne(self, digits: list[int]) -> list[int]:\n",
    "        num = 0\n",
    "        lst = digits[::-1]\n",
    "        for i in range(len(digits)):\n",
    "            num += lst[i] * (10 ** i)\n",
    "        num += 1\n",
    "        ans = []\n",
    "        for i in range(len(str(num))):\n",
    "            digit = int(num % 10)         \n",
    "            num = (num - digit) // 10\n",
    "            ans.append(digit)\n",
    "        ans = ans[::-1]\n",
    "        return ans\n",
    "    \n",
    "ob1 = Solution()\n",
    "digits = [1,2,3]\n",
    "print(\"The array is:\",digits)\n",
    "print(\"The result is:\",ob1.plusOne(digits))        "
   ]
  },
  {
   "cell_type": "markdown",
   "id": "568309f9",
   "metadata": {},
   "source": [
    "**Question 6\n",
    "Given a non-empty array of integers nums, every element appears twice except\n",
    "for one. Find that single one.**\n",
    "\n",
    "**You must implement a solution with a linear runtime complexity and use only\n",
    "constant extra space.**\n",
    "\n",
    "**Example 1:**\n",
    "\n",
    "Input: nums = [2,2,1]\n",
    "\n",
    "Output: 1"
   ]
  },
  {
   "cell_type": "code",
   "execution_count": 8,
   "id": "b36291f9",
   "metadata": {},
   "outputs": [
    {
     "name": "stdout",
     "output_type": "stream",
     "text": [
      "The array is: [2, 2, 1]\n",
      "The Output is: 1\n",
      "\n",
      "\n",
      "The array is: [2, 2, 1, 1, 3, 5, 3]\n",
      "The Output is: 5\n"
     ]
    }
   ],
   "source": [
    "class Solution(object):\n",
    "    def singleNumber(self, nums):\n",
    "        for i in nums:\n",
    "            if nums.count(i) == 1:\n",
    "                return i\n",
    "            \n",
    "            \n",
    "ob1 = Solution()\n",
    "nums = [2,2,1]\n",
    "print(\"The array is:\",nums)\n",
    "print(\"The Output is:\",ob1.singleNumber(nums))\n",
    "print(\"\\n\")\n",
    "ob1 = Solution()\n",
    "nums = [2,2,1,1,3,5,3]\n",
    "print(\"The array is:\",nums)\n",
    "print(\"The Output is:\",ob1.singleNumber(nums))                "
   ]
  },
  {
   "cell_type": "code",
   "execution_count": null,
   "id": "7dff25fd",
   "metadata": {},
   "outputs": [],
   "source": []
  },
  {
   "cell_type": "markdown",
   "id": "9a17b368",
   "metadata": {},
   "source": [
    "**Question 7\n",
    "You are given an inclusive range [lower, upper] and a sorted unique integer array\n",
    "nums, where all elements are within the inclusive range.**\n",
    "\n",
    "**A number x is considered missing if x is in the range [lower, upper] and x is not in\n",
    "nums.**\n",
    "\n",
    "**Return the shortest sorted list of ranges that exactly covers all the missing\n",
    "numbers. That is, no element of nums is included in any of the ranges, and each\n",
    "missing number is covered by one of the ranges.**\n",
    "\n",
    "**Example 1:**\n",
    "\n",
    "Input: nums = [0,1,3,50,75], lower = 0, upper = 99\n",
    "\n",
    "Output: [[2,2],[4,49],[51,74],[76,99]]\n",
    "\n",
    "**Explanation: The ranges are:**\n",
    "\n",
    "[2,2]\n",
    "\n",
    "[4,49]\n",
    "\n",
    "[51,74]\n",
    "\n",
    "[76,99]"
   ]
  },
  {
   "cell_type": "code",
   "execution_count": 9,
   "id": "e1cd1445",
   "metadata": {},
   "outputs": [
    {
     "name": "stdout",
     "output_type": "stream",
     "text": [
      "The array is: [0, 1, 3, 50, 75]\n",
      "The Output is: [['2'], ['4,49'], ['51,74'], ['76,99']]\n"
     ]
    }
   ],
   "source": [
    "def findMissingRanges(nums, lower, upper):\n",
    "    result = []\n",
    "    prev = lower - 1  \n",
    "    for num in nums + [upper + 1]:\n",
    "        if prev + 1 < num:  # Found a missing number\n",
    "            result.append(formatRange(prev + 1, num - 1))\n",
    "        prev = num\n",
    "\n",
    "    return result\n",
    "\n",
    "def formatRange(start, end):\n",
    "    if start == end:\n",
    "        return [str(start)]\n",
    "    else:\n",
    "        return [str(start) + \",\" + str(end)]\n",
    "\n",
    "nums = [0,1,3,50,75]\n",
    "lower = 0\n",
    "upper = 99\n",
    "print(\"The array is:\",nums)\n",
    "print(\"The Output is:\", findMissingRanges(nums,lower,upper))        "
   ]
  },
  {
   "cell_type": "markdown",
   "id": "3eb7a465",
   "metadata": {},
   "source": [
    "**Question 8\n",
    "Given an array of meeting time intervals where intervals[i] = [starti, endi],\n",
    "determine if a person could attend all meetings.**\n",
    "\n",
    "**Example 1:**\n",
    "\n",
    "Input: intervals = [[0,30],[5,10],[15,20]]\n",
    "\n",
    "Output: false"
   ]
  },
  {
   "cell_type": "code",
   "execution_count": 10,
   "id": "4d8d0f79",
   "metadata": {},
   "outputs": [
    {
     "name": "stdout",
     "output_type": "stream",
     "text": [
      "The array is: [[0, 30], [5, 10], [15, 20]]\n",
      "The Output is: False\n",
      "\n",
      "\n",
      "The array is: [[0, 4], [5, 10], [15, 20]]\n",
      "The Output is: True\n"
     ]
    }
   ],
   "source": [
    "def canAttendMeetings(intervals):\n",
    "        \n",
    "    intervals.sort(key=lambda x: x[0])\n",
    "    for i in range(1, len(intervals)):\n",
    "        if intervals[i][0] <= intervals[i-1][1]:\n",
    "            return False\n",
    "    return True\n",
    "\n",
    "intervals = [[0,30],[5,10],[15,20]]\n",
    "print(\"The array is:\",intervals)\n",
    "print(\"The Output is:\",canAttendMeetings(intervals))\n",
    "print(\"\\n\")\n",
    "intervals = [[0,4],[5,10],[15,20]]\n",
    "print(\"The array is:\",intervals)\n",
    "print(\"The Output is:\",canAttendMeetings(intervals))"
   ]
  },
  {
   "cell_type": "code",
   "execution_count": null,
   "id": "dd3ce44f",
   "metadata": {},
   "outputs": [],
   "source": []
  }
 ],
 "metadata": {
  "kernelspec": {
   "display_name": "Python 3 (ipykernel)",
   "language": "python",
   "name": "python3"
  },
  "language_info": {
   "codemirror_mode": {
    "name": "ipython",
    "version": 3
   },
   "file_extension": ".py",
   "mimetype": "text/x-python",
   "name": "python",
   "nbconvert_exporter": "python",
   "pygments_lexer": "ipython3",
   "version": "3.9.12"
  }
 },
 "nbformat": 4,
 "nbformat_minor": 5
}
