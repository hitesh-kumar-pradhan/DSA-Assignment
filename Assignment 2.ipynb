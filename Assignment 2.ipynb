{
 "cells": [
  {
   "cell_type": "markdown",
   "id": "8833d1d4",
   "metadata": {},
   "source": [
    "**Question 1**\n",
    "**Given an integer array nums of 2n integers, group these integers into n pairs (a1, b1), (a2, b2),..., (an, bn) such that the sum of min(ai, bi) for all i is maximized. Return the maximized sum.**\n",
    "\n",
    "**Example 1:**\n",
    "\n",
    "Input: nums = [1,4,3,2]\n",
    "\n",
    "Output: 4\n",
    "\n",
    "**Explanation:** All possible pairings (ignoring the ordering of elements) are:\n",
    "\n",
    "1. (1, 4), (2, 3) -> min(1, 4) + min(2, 3) = 1 + 2 = 3\n",
    "2. (1, 3), (2, 4) -> min(1, 3) + min(2, 4) = 1 + 2 = 3\n",
    "3. (1, 2), (3, 4) -> min(1, 2) + min(3, 4) = 1 + 3 = 4\n",
    "So the maximum possible sum is 4\n"
   ]
  },
  {
   "cell_type": "code",
   "execution_count": 16,
   "id": "afebf640",
   "metadata": {},
   "outputs": [
    {
     "name": "stdout",
     "output_type": "stream",
     "text": [
      "The array is: [1, 4, 3, 2]\n",
      "The maximum possible sum is: 4\n"
     ]
    }
   ],
   "source": [
    "class Solution(object):\n",
    "    def arrayPairSum(self, a):\n",
    "        a = sorted(a)\n",
    "        res = []\n",
    "        for i in range(0, len(a), 2):\n",
    "            res.append((a[i], a[i+1]))\n",
    "        return sum([min(r) for r in res])\n",
    "    \n",
    "ob1 = Solution()\n",
    "a = [1,4,3,2]\n",
    "print(\"The array is:\",a)\n",
    "print(\"The maximum possible sum is:\",ob1.arrayPairSum(a))"
   ]
  },
  {
   "cell_type": "code",
   "execution_count": 17,
   "id": "6d72fc90",
   "metadata": {},
   "outputs": [
    {
     "name": "stdout",
     "output_type": "stream",
     "text": [
      "The array is: [1, 3, 4, 6, 9, 7]\n",
      "The maximum possible sum is: 12\n"
     ]
    }
   ],
   "source": [
    "ob1 = Solution()\n",
    "a = [1, 3, 4, 6, 9, 7]\n",
    "print(\"The array is:\",a)\n",
    "print(\"The maximum possible sum is:\",ob1.arrayPairSum(a))"
   ]
  },
  {
   "cell_type": "code",
   "execution_count": null,
   "id": "90bffca2",
   "metadata": {},
   "outputs": [],
   "source": []
  },
  {
   "cell_type": "markdown",
   "id": "2d38d7af",
   "metadata": {},
   "source": [
    "**Question 2\n",
    "Alice has n candies, where the ith candy is of type candyType[i]. Alice noticed that she started to gain weight, so she visited a doctor.** \n",
    "\n",
    "**The doctor advised Alice to only eat n / 2 of the candies she has (n is always even). Alice likes her candies very much, and she wants to eat the maximum number of different types of candies while still following the doctor's advice.** \n",
    "\n",
    "**Given the integer array candyType of length n, return the maximum number of different types of candies she can eat if she only eats n / 2 of them.**\n",
    "\n",
    "**Example 1:**\n",
    "\n",
    "Input: candyType = [1,1,2,2,3,3]\n",
    "\n",
    "Output: 3\n",
    "\n",
    "**Explanation: Alice can only eat 6 / 2 = 3 candies. Since there are only 3 types, she can eat one of each type.**"
   ]
  },
  {
   "cell_type": "code",
   "execution_count": 3,
   "id": "5624f464",
   "metadata": {},
   "outputs": [
    {
     "name": "stdout",
     "output_type": "stream",
     "text": [
      "The CandyType array is: [1, 1, 2, 2, 3, 3]\n",
      "The maximum types of candies is: 3\n"
     ]
    }
   ],
   "source": [
    "class Solution:\n",
    "    def distributeCandies(self, candyType: list[int]) -> int:\n",
    "        return min(len(candyType)//2 , len(set(candyType)))\n",
    "    \n",
    "ob1 = Solution()\n",
    "candyType = [1,1,2,2,3,3]\n",
    "print(\"The CandyType array is:\",candyType)\n",
    "print(\"The maximum types of candies is:\",ob1.distributeCandies(candyType))    "
   ]
  },
  {
   "cell_type": "code",
   "execution_count": 4,
   "id": "7718a838",
   "metadata": {},
   "outputs": [
    {
     "name": "stdout",
     "output_type": "stream",
     "text": [
      "The CandyType array is: [1, 1, 2, 3]\n",
      "The maximum types of candies is: 2\n"
     ]
    }
   ],
   "source": [
    "ob1 = Solution()\n",
    "candyType = [1,1,2,3]\n",
    "print(\"The CandyType array is:\",candyType)\n",
    "print(\"The maximum types of candies is:\",ob1.distributeCandies(candyType))     "
   ]
  },
  {
   "cell_type": "code",
   "execution_count": 5,
   "id": "1b7fa557",
   "metadata": {},
   "outputs": [
    {
     "name": "stdout",
     "output_type": "stream",
     "text": [
      "The CandyType array is: [4, 4, 4, 4]\n",
      "The maximum types of candies is: 1\n"
     ]
    }
   ],
   "source": [
    "ob1 = Solution()\n",
    "candyType = [4,4,4,4]\n",
    "print(\"The CandyType array is:\",candyType)\n",
    "print(\"The maximum types of candies is:\",ob1.distributeCandies(candyType))     "
   ]
  },
  {
   "cell_type": "code",
   "execution_count": null,
   "id": "76ca1be5",
   "metadata": {},
   "outputs": [],
   "source": []
  },
  {
   "cell_type": "markdown",
   "id": "4446bf97",
   "metadata": {},
   "source": [
    "**Question 3\n",
    "We define a harmonious array as an array where the difference between its maximum value\n",
    "and its minimum value is exactly 1.**\n",
    "\n",
    "**Given an integer array nums, return the length of its longest harmonious subsequence\n",
    "among all its possible subsequences.**\n",
    "\n",
    "**A subsequence of an array is a sequence that can be derived from the array by deleting some or no elements without changing the order of the remaining elements.**\n",
    "\n",
    "**Example 1:**\n",
    "\n",
    "Input: nums = [1,3,2,2,5,2,3,7]\n",
    "\n",
    "Output: 5\n",
    "\n",
    "**Explanation: The longest harmonious subsequence is [3,2,2,2,3].**"
   ]
  },
  {
   "cell_type": "code",
   "execution_count": 6,
   "id": "d43da7da",
   "metadata": {},
   "outputs": [],
   "source": [
    "from collections import Counter\n",
    "\n",
    "class Solution:\n",
    "    def findLHS(self, nums: list[int]) -> int:\n",
    "        freq = Counter(nums)\n",
    "        max_length = 0\n",
    "        \n",
    "        for key in freq:\n",
    "            if key + 1 in freq:\n",
    "                max_length = max(max_length, freq[key] + freq[key+1])\n",
    "                \n",
    "        return max_length"
   ]
  },
  {
   "cell_type": "code",
   "execution_count": 7,
   "id": "a99cce79",
   "metadata": {},
   "outputs": [
    {
     "name": "stdout",
     "output_type": "stream",
     "text": [
      "The array is: [1, 3, 2, 2, 5, 2, 3, 7]\n",
      "Max Length: 5\n"
     ]
    }
   ],
   "source": [
    "ob1 = Solution()\n",
    "nums = [1,3,2,2,5,2,3,7]\n",
    "print(\"The array is:\",nums)\n",
    "print(\"Max Length:\",ob1.findLHS(nums)) "
   ]
  },
  {
   "cell_type": "code",
   "execution_count": 8,
   "id": "429eae47",
   "metadata": {},
   "outputs": [],
   "source": [
    "class Solution:\n",
    "    def findLHS(self, nums: list[int]) -> int:\n",
    "        letter = {}\n",
    "        ans = 0\n",
    "        for i in nums:\n",
    "            if i not in letter:\n",
    "                letter[i] = 1\n",
    "            else:\n",
    "                letter[i]+=1\n",
    "        for i in letter:\n",
    "            if i+1 in letter.keys():\n",
    "                ans = max(ans, letter[i]+letter[i+1])\n",
    "        return ans"
   ]
  },
  {
   "cell_type": "code",
   "execution_count": 9,
   "id": "9e141318",
   "metadata": {},
   "outputs": [
    {
     "name": "stdout",
     "output_type": "stream",
     "text": [
      "The array is: [1, 3, 2, 2, 5, 2, 3, 7]\n",
      "Max length of array is: 5\n"
     ]
    }
   ],
   "source": [
    "ob1 = Solution()\n",
    "nums = [1,3,2,2,5,2,3,7]\n",
    "print(\"The array is:\",nums)\n",
    "print(\"Max length of array is:\",ob1.findLHS(nums)) "
   ]
  },
  {
   "cell_type": "code",
   "execution_count": null,
   "id": "4cc141b0",
   "metadata": {},
   "outputs": [],
   "source": []
  },
  {
   "cell_type": "markdown",
   "id": "df8fa132",
   "metadata": {},
   "source": [
    "**Question 4\n",
    "You have a long flowerbed in which some of the plots are planted, and some are not.\n",
    "However, flowers cannot be planted in adjacent plots.\n",
    "Given an integer array flowerbed containing 0's and 1's, where 0 means empty and 1 means not empty, and an integer n, return true if n new flowers can be planted in the flowerbed without violating the no-adjacent-flowers rule and false otherwise.**\n",
    "\n",
    "**Example 1:**\n",
    "\n",
    "Input: flowerbed = [1,0,0,0,1], n = 1\n",
    "\n",
    "Output: true"
   ]
  },
  {
   "cell_type": "code",
   "execution_count": 10,
   "id": "9577a277",
   "metadata": {},
   "outputs": [
    {
     "name": "stdout",
     "output_type": "stream",
     "text": [
      "The array is: [1, 0, 0, 0, 1] , n : 1\n",
      "Output: True\n",
      "The array is: [1, 0, 0, 0, 1] , n : 2\n",
      "Output: False\n"
     ]
    }
   ],
   "source": [
    "def canPlaceFlowers(flowerbed: list[int], n: int) -> bool:\n",
    "        l=len(flowerbed)\n",
    "        flowerbed=[0]+flowerbed+[0]\n",
    "        for i in range(1,l-1):\n",
    "            if flowerbed[i]==0 and flowerbed[i-1]==0 and flowerbed[i+1]==0:\n",
    "                    flowerbed[i]=1\n",
    "                    n-=1\n",
    "        if n<=0:\n",
    "            return True\n",
    "        return False\n",
    "    \n",
    "flowerbed = [1,0,0,0,1]\n",
    "n = 1\n",
    "print(\"The array is:\",flowerbed, \", n :\",n)\n",
    "print(\"Output:\",canPlaceFlowers(flowerbed,n))\n",
    "\n",
    "flowerbed = [1,0,0,0,1]\n",
    "n = 2\n",
    "print(\"The array is:\",flowerbed, \", n :\",n)\n",
    "print(\"Output:\",canPlaceFlowers(flowerbed,n))    "
   ]
  },
  {
   "cell_type": "code",
   "execution_count": null,
   "id": "fed7dd1f",
   "metadata": {},
   "outputs": [],
   "source": []
  },
  {
   "cell_type": "markdown",
   "id": "376ede0d",
   "metadata": {},
   "source": [
    "**Question 5\n",
    "Given an integer array nums, find three numbers whose product is maximum and return the maximum product.**\n",
    "\n",
    "**Example 1:**\n",
    "\n",
    "Input: nums = [1,2,3]\n",
    "\n",
    "Output: 6"
   ]
  },
  {
   "cell_type": "code",
   "execution_count": 11,
   "id": "90dda57c",
   "metadata": {},
   "outputs": [
    {
     "name": "stdout",
     "output_type": "stream",
     "text": [
      "Maximum product is 6\n"
     ]
    }
   ],
   "source": [
    "def maxProduct(arr, n):\n",
    " \n",
    "    if n < 3:\n",
    "        return -1\n",
    " \n",
    "    arr.sort()\n",
    "    \n",
    "    return max(arr[0] * arr[1] * arr[n - 1],\n",
    "               arr[n - 1] * arr[n - 2] * arr[n - 3])\n",
    " \n",
    "\n",
    "if __name__ == \"__main__\":\n",
    " \n",
    "    arr = [1,2,3]\n",
    "    n = len(arr)\n",
    " \n",
    "    _max = maxProduct(arr, n)\n",
    " \n",
    "    if _max == -1:\n",
    "        print(\"No Triplet Exists\")\n",
    "    else:\n",
    "        print(\"Maximum product is\", _max)\n",
    " "
   ]
  },
  {
   "cell_type": "code",
   "execution_count": 12,
   "id": "a89ea081",
   "metadata": {},
   "outputs": [
    {
     "name": "stdout",
     "output_type": "stream",
     "text": [
      "The array is: [1, 2, 3]\n",
      "The maximum product is: 6\n",
      "\n",
      "\n",
      "The array is: [-10, -3, 5, 6, -20]\n",
      "The maximum product is: 1200\n"
     ]
    }
   ],
   "source": [
    "class Solution:\n",
    "    def maximumProduct(self, nums: list[int]) -> int:\n",
    "        n = len(nums)\n",
    "        nums.sort()\n",
    "        a = nums[-1]*nums[-2]*nums[-3]\n",
    "        b = nums[0]*nums[1]*nums[-1]\n",
    "        return max(a, b)\n",
    "    \n",
    "ob1 = Solution()\n",
    "nums = [1,2,3]\n",
    "print(\"The array is:\",nums)\n",
    "print(\"The maximum product is:\",ob1.maximumProduct(nums))\n",
    "\n",
    "print(\"\\n\")\n",
    "\n",
    "ob1 = Solution()\n",
    "nums = [-10,-3,5,6,-20]\n",
    "print(\"The array is:\",nums)\n",
    "print(\"The maximum product is:\",ob1.maximumProduct(nums))"
   ]
  },
  {
   "cell_type": "markdown",
   "id": "d4125855",
   "metadata": {},
   "source": [
    "**Question 6\n",
    "Given an array of integers nums which is sorted in ascending order, and an integer target,\n",
    "write a function to search target in nums. If target exists, then return its index. Otherwise,\n",
    "return -1.**\n",
    "\n",
    "**You must write an algorithm with O(log n) runtime complexity.**\n",
    "\n",
    "Input: nums = [-1,0,3,5,9,12], target = 9\n",
    "\n",
    "Output: 4\n",
    "\n",
    "**Explanation: 9 exists in nums and its index is 4**"
   ]
  },
  {
   "cell_type": "code",
   "execution_count": 13,
   "id": "a8e4d4d5",
   "metadata": {},
   "outputs": [
    {
     "name": "stdout",
     "output_type": "stream",
     "text": [
      "The array is: [-1, 0, 3, 5, 9, 12] , The target is:  9\n",
      "The index no. is : 4\n"
     ]
    }
   ],
   "source": [
    "class Solution:\n",
    "    def search(self, nums: list[int], target: int) -> int:\n",
    "        low = 0\n",
    "        high = len(nums)-1\n",
    "        \n",
    "        while(low <= high):\n",
    "            mid = (low+high)//2\n",
    "            if nums[mid] == target:\n",
    "                return mid\n",
    "            \n",
    "            elif nums[mid] < target:\n",
    "                low = mid+1\n",
    "            \n",
    "            else:\n",
    "                high = mid-1\n",
    "        return -1\n",
    "    \n",
    "    \n",
    "ob1 = Solution()\n",
    "nums = [-1,0,3,5,9,12]\n",
    "target = 9\n",
    "print(\"The array is:\",nums,\", The target is: \",target)\n",
    "print(\"The index no. is :\",ob1.search(nums , target))    "
   ]
  },
  {
   "cell_type": "markdown",
   "id": "e0b0dc62",
   "metadata": {},
   "source": [
    "**Question 7\n",
    "An array is monotonic if it is either monotone increasing or monotone decreasing.**\n",
    "\n",
    "**An array nums is monotone increasing if for all i <= j, nums[i] <= nums[j]. An array nums is\n",
    "monotone decreasing if for all i <= j, nums[i] >= nums[j].**\n",
    "\n",
    "**Given an integer array nums, return true if the given array is monotonic, or false otherwise.**\n",
    "\n",
    "**Example 1:**\n",
    "\n",
    "Input: nums = [1,2,2,3]\n",
    "\n",
    "Output: true"
   ]
  },
  {
   "cell_type": "code",
   "execution_count": 14,
   "id": "6a98355c",
   "metadata": {},
   "outputs": [
    {
     "name": "stdout",
     "output_type": "stream",
     "text": [
      "The array is: [1, 2, 2, 3]\n",
      "Is monotonic : True\n",
      "\n",
      "\n",
      "The array is: [6, 2, 4, 2]\n",
      "Is monotonic : False\n"
     ]
    }
   ],
   "source": [
    "class Solution(object):\n",
    "    def isMonotonic(self, A):\n",
    "        increasing = decreasing = True\n",
    "\n",
    "        for i in range(len(A) - 1):\n",
    "            if A[i] > A[i+1]:\n",
    "                increasing = False\n",
    "            if A[i] < A[i+1]:\n",
    "                decreasing = False\n",
    "\n",
    "        return increasing or decreasing\n",
    "    \n",
    "ob1 = Solution()\n",
    "A = [1,2,2,3]\n",
    "print(\"The array is:\",A)\n",
    "print(\"Is monotonic :\",ob1.isMonotonic(A))\n",
    "\n",
    "print(\"\\n\")\n",
    "\n",
    "ob1 = Solution()\n",
    "A = [6, 2, 4, 2]\n",
    "print(\"The array is:\",A)\n",
    "print(\"Is monotonic :\",ob1.isMonotonic(A))\n"
   ]
  },
  {
   "cell_type": "code",
   "execution_count": null,
   "id": "4521d622",
   "metadata": {},
   "outputs": [],
   "source": []
  },
  {
   "cell_type": "markdown",
   "id": "407b5046",
   "metadata": {},
   "source": [
    "**Question 8\n",
    "You are given an integer array nums and an integer k.**\n",
    "\n",
    "**In one operation, you can choose any index i where 0 <= i < nums.length and change nums[i] to nums[i] + x where x is an integer from the range [-k, k]. You can apply this operation at most once for each index i.**\n",
    "\n",
    "**The score of nums is the difference between the maximum and minimum elements in nums.**\n",
    "\n",
    "**Return the minimum score of nums after applying the mentioned operation at most once for each index in it.**\n",
    "\n",
    "**Example 1:**\n",
    "\n",
    "Input: nums = [1], k = 0\n",
    "\n",
    "Output: 0\n",
    "\n",
    "**Explanation: The score is max(nums) - min(nums) = 1 - 1 = 0.**"
   ]
  },
  {
   "cell_type": "code",
   "execution_count": 15,
   "id": "0ab0d448",
   "metadata": {},
   "outputs": [
    {
     "name": "stdout",
     "output_type": "stream",
     "text": [
      "The array is: [1] ,The value of is k : 0\n",
      "Output : 0\n",
      "\n",
      "\n",
      "The array is: [0, 11] ,The value of is k : 2\n",
      "Output : 7\n"
     ]
    }
   ],
   "source": [
    "class Solution(object):\n",
    "    def smallestRangeI(self, nums, k):\n",
    "        mn = min(nums) + k\n",
    "        mx = max(nums) - k\n",
    "\n",
    "        if mx < mn:\n",
    "            return (max(nums) - (max(nums) - mn)) - mn\n",
    "\n",
    "        return mx - mn\n",
    "    \n",
    "ob1 = Solution()\n",
    "nums = [1]\n",
    "k = 0\n",
    "print(\"The array is:\",nums , \",The value of is k :\",k)\n",
    "print(\"Output :\",ob1.smallestRangeI(nums, k))\n",
    "\n",
    "print(\"\\n\")\n",
    "\n",
    "ob1 = Solution()\n",
    "nums = [0,11]\n",
    "k = 2\n",
    "print(\"The array is:\",nums , \",The value of is k :\",k)\n",
    "print(\"Output :\",ob1.smallestRangeI(nums, k))\n",
    "    "
   ]
  },
  {
   "cell_type": "code",
   "execution_count": null,
   "id": "259db19a",
   "metadata": {},
   "outputs": [],
   "source": []
  }
 ],
 "metadata": {
  "kernelspec": {
   "display_name": "Python 3 (ipykernel)",
   "language": "python",
   "name": "python3"
  },
  "language_info": {
   "codemirror_mode": {
    "name": "ipython",
    "version": 3
   },
   "file_extension": ".py",
   "mimetype": "text/x-python",
   "name": "python",
   "nbconvert_exporter": "python",
   "pygments_lexer": "ipython3",
   "version": "3.9.12"
  }
 },
 "nbformat": 4,
 "nbformat_minor": 5
}
