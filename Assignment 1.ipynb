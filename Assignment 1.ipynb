{
 "cells": [
  {
   "cell_type": "markdown",
   "id": "7cb205a4",
   "metadata": {},
   "source": [
    "# Assignment 1"
   ]
  },
  {
   "cell_type": "markdown",
   "id": "199380ee",
   "metadata": {},
   "source": [
    "\n",
    "**1.  Given an array of integers nums and an integer target, return indices of the two numbers such that they add up to target.**\n",
    "\n",
    "   **You may assume that each input would have exactly one solution, and you may not use the same element twice.**\n",
    "\n",
    "   **You can return the answer in any order.**\n",
    "\n",
    "**Example:**\n",
    "Input: nums = [2,7,11,15], target = 9\n",
    "\n",
    "        Output0 [0,1]\n",
    "\n",
    "**Explanation:** Because nums[0] + nums[1] == 9, we return [0,1]\n",
    "\n"
   ]
  },
  {
   "cell_type": "code",
   "execution_count": 1,
   "id": "5c726d2f",
   "metadata": {},
   "outputs": [
    {
     "name": "stdout",
     "output_type": "stream",
     "text": [
      "Test : [2, 7, 11, 15]  , Target : 22\n",
      "Output : [1, 3]\n"
     ]
    }
   ],
   "source": [
    "def twoSum(nums,target):\n",
    "    for i in range(len(nums)):\n",
    "        for j in range(i+1,len(nums)):\n",
    "            if target - nums[i] == nums[j]:\n",
    "                return [i,j]\n",
    "            \n",
    "    return None\n",
    "\n",
    "test = [2,7,11,15]\n",
    "target = 22\n",
    "print(\"Test :\",test,\" , Target :\",target)\n",
    "print(\"Output :\",twoSum(test,target))"
   ]
  },
  {
   "cell_type": "code",
   "execution_count": 2,
   "id": "b649f56a",
   "metadata": {},
   "outputs": [
    {
     "name": "stdout",
     "output_type": "stream",
     "text": [
      "Test : [2, 7, 11, 15]  , Target : 9\n",
      "Output : [0, 1]\n"
     ]
    }
   ],
   "source": [
    "test = [2,7,11,15]\n",
    "target =9\n",
    "print(\"Test :\",test,\" , Target :\",target)\n",
    "print(\"Output :\",twoSum(test,target))"
   ]
  },
  {
   "cell_type": "code",
   "execution_count": 3,
   "id": "e920893f",
   "metadata": {},
   "outputs": [
    {
     "name": "stdout",
     "output_type": "stream",
     "text": [
      "Test : [2, 7, 11, 15]  , Target : 18\n",
      "Output : [1, 2]\n",
      "\n",
      "\n",
      "Test : [2, 7, 11, 15]  , Target : 13\n",
      "Output : [0, 2]\n"
     ]
    }
   ],
   "source": [
    "test = [2,7,11,15]\n",
    "target = 18\n",
    "print(\"Test :\",test,\" , Target :\",target)\n",
    "print(\"Output :\",twoSum(test,target))\n",
    "print(\"\\n\")\n",
    "test = [2,7,11,15]\n",
    "target = 13\n",
    "print(\"Test :\",test,\" , Target :\",target)\n",
    "print(\"Output :\",twoSum(test,target))"
   ]
  },
  {
   "cell_type": "code",
   "execution_count": null,
   "id": "97a22ce9",
   "metadata": {},
   "outputs": [],
   "source": []
  },
  {
   "cell_type": "markdown",
   "id": "5494b573",
   "metadata": {},
   "source": [
    "**2. Given an integer array nums and an integer val, remove all occurrences of val in nums in-place. The order of the elements may be changed. Then return the number of elements in nums which are not equal to val.**\n",
    "\n",
    "**Consider the number of elements in nums which are not equal to val be k, to get accepted, you need to do the following things:**\n",
    "\n",
    "* Change the array nums such that the first k elements of nums contain the elements which are not equal to val. The remaining elements of nums are not important as well as the size of nums.\n",
    "* Return k.\n",
    "\n",
    "**Example :**\n",
    "Input: nums = [3,2,2,3], val = 3\n",
    "Output: 2, nums = [2,2, , ]\n",
    "\n",
    "**Explanation:** Your function should return k = 2, with the first two elements of nums being 2. \n",
    " \n",
    " It does not matter what you leave beyond the returned k (hence they are underscores)\n",
    "\n"
   ]
  },
  {
   "cell_type": "code",
   "execution_count": 20,
   "id": "4758ee62",
   "metadata": {},
   "outputs": [
    {
     "name": "stdout",
     "output_type": "stream",
     "text": [
      "nums = [3, 2, 2, 3] , val = 2\n",
      "Output = 2\n"
     ]
    }
   ],
   "source": [
    "def removeElement(nums,val):\n",
    "    k = 0\n",
    "    for i in range(len(nums)):\n",
    "        if nums[i] != val:\n",
    "            nums[k] = nums[i]\n",
    "            k = k+1\n",
    "    return k\n",
    "\n",
    "nums = [3,2,2,3]\n",
    "val = 2\n",
    "print(\"nums =\",nums, \", val =\",val)\n",
    "print(\"Output =\",removeElement(nums,val))\n"
   ]
  },
  {
   "cell_type": "code",
   "execution_count": 102,
   "id": "86537ae3",
   "metadata": {},
   "outputs": [
    {
     "name": "stdout",
     "output_type": "stream",
     "text": [
      "1 3 3 4 "
     ]
    }
   ],
   "source": [
    "from collections import Counter\n",
    " \n",
    "def removeElements(arr, n, k):\n",
    " \n",
    "    freq = Counter(arr)\n",
    "    for i in range(n):\n",
    "        if (freq[arr[i]] <= k):\n",
    "            print(arr[i], end=\" \")\n",
    "  \n",
    "  \n",
    "arr = [1, 2, 2, 3, 2, 3, 4]\n",
    "n = len(arr)\n",
    "k = 2\n",
    "removeElements(arr, n, k)"
   ]
  },
  {
   "cell_type": "code",
   "execution_count": null,
   "id": "f72f5b5d",
   "metadata": {},
   "outputs": [],
   "source": []
  },
  {
   "cell_type": "markdown",
   "id": "5a1ba618",
   "metadata": {},
   "source": [
    "**3.Given a sorted array of distinct integers and a target value, return the index if the target is found. If not, return the index where it would be if it were inserted in order.**\n",
    "\n",
    "**You must write an algorithm with O(log n) runtime complexity.**\n",
    "\n",
    "**Example 1:**\n",
    "Input: nums = [1,3,5,6], target = 5\n",
    "\n",
    "Output: 2\n"
   ]
  },
  {
   "cell_type": "code",
   "execution_count": 42,
   "id": "f0ec2f2b",
   "metadata": {},
   "outputs": [
    {
     "name": "stdout",
     "output_type": "stream",
     "text": [
      "nums = [1, 3, 5, 6] ,target = 2\n",
      "output = 1\n"
     ]
    }
   ],
   "source": [
    "def find_index(arr, n, K):\n",
    "    \n",
    "    start = 0\n",
    "    end = n - 1\n",
    " \n",
    "    while start<= end:\n",
    " \n",
    "        mid =(start + end)//2\n",
    " \n",
    "        if arr[mid] == K:\n",
    "            return mid\n",
    " \n",
    "        elif arr[mid] < K:\n",
    "            start = mid + 1\n",
    "        else:\n",
    "            end = mid-1\n",
    " \n",
    "    return end + 1\n",
    " \n",
    "\n",
    "arr = [1,3,5,6]\n",
    "n = len(arr)\n",
    "K = 2\n",
    "print(\"nums =\",arr,\",target =\",K)\n",
    "print(\"output =\",find_index(arr, n, K))"
   ]
  },
  {
   "cell_type": "code",
   "execution_count": 41,
   "id": "1900325e",
   "metadata": {},
   "outputs": [
    {
     "name": "stdout",
     "output_type": "stream",
     "text": [
      "nums = [1, 3, 5, 6] ,target = 5\n",
      "output = 2\n",
      "\n",
      "\n",
      "nums = [1, 3, 4, 5, 6] ,target = 6\n",
      "output = 4\n"
     ]
    }
   ],
   "source": [
    "arr = [1,3,5,6]\n",
    "n = len(arr)\n",
    "K = 5\n",
    "print(\"nums =\",arr,\",target =\",K)\n",
    "print(\"output =\",find_index(arr, n, K))\n",
    "\n",
    "print(\"\\n\")\n",
    "\n",
    "arr = [1,3,4,5,6]\n",
    "n = len(arr)\n",
    "K = 6\n",
    "print(\"nums =\",arr,\",target =\",K)\n",
    "print(\"output =\",find_index(arr, n, K))"
   ]
  },
  {
   "cell_type": "code",
   "execution_count": null,
   "id": "09038695",
   "metadata": {},
   "outputs": [],
   "source": []
  },
  {
   "cell_type": "markdown",
   "id": "93642089",
   "metadata": {},
   "source": [
    "**4. You are given a large integer represented as an integer array digits, where each digits[i] is the ith digit of the integer. The digits are ordered from most significant to least significant in left-to-right order. The large integer does not contain any leading 0's.**\n",
    "\n",
    "**Increment the large integer by one and return the resulting array of digits.**\n",
    "\n",
    "**Example 1:**\n",
    "\n",
    "Input: digits = [1,2,3]\n",
    "\n",
    "Output: [1,2,4]\n",
    "\n",
    "**Explanation:** \n",
    "\n",
    "The array represents the integer 123.\n",
    "\n",
    "Incrementing by one gives 123 + 1 = 124.\n",
    "\n",
    "Thus, the result should be [1,2,4].\n"
   ]
  },
  {
   "cell_type": "code",
   "execution_count": 56,
   "id": "038948c8",
   "metadata": {},
   "outputs": [
    {
     "name": "stdout",
     "output_type": "stream",
     "text": [
      "Input digits : [1, 7, 8, 9]\n",
      "1 7 9 0 "
     ]
    }
   ],
   "source": [
    "def AddOne(digits):\n",
    "    \n",
    "    index = len(digits) - 1\n",
    "      \n",
    "    while (index >= 0 and digits[index] == 9):\n",
    "        digits[index] = 0\n",
    "        index -= 1\n",
    "          \n",
    "    if (index < 0):\n",
    "        \n",
    "        digits.insert(0, 1)\n",
    "          \n",
    "    else:\n",
    "        digits[index] += 1\n",
    "  \n",
    "  \n",
    "digits = [1,7,8,9]\n",
    "print(\"Input digits :\",digits)  \n",
    "\n",
    "AddOne(digits)\n",
    " \n",
    "for digit in digits:\n",
    "    print(digit, end =' ')      "
   ]
  },
  {
   "cell_type": "code",
   "execution_count": 57,
   "id": "8d376126",
   "metadata": {},
   "outputs": [
    {
     "name": "stdout",
     "output_type": "stream",
     "text": [
      "Input digits : [1, 2, 3]\n",
      "1 2 4 "
     ]
    }
   ],
   "source": [
    "digits = [1,2,3]\n",
    "print(\"Input digits :\",digits)  \n",
    "\n",
    "AddOne(digits)\n",
    " \n",
    "for digit in digits:\n",
    "    print(digit, end =' ')      "
   ]
  },
  {
   "cell_type": "code",
   "execution_count": null,
   "id": "62a64664",
   "metadata": {},
   "outputs": [],
   "source": []
  },
  {
   "cell_type": "markdown",
   "id": "e9f37da2",
   "metadata": {},
   "source": [
    " **Q5. You are given two integer arrays nums1 and nums2, sorted in non-decreasing order, and two integers m and n, representing the number of elements in nums1 and nums2 respectively.**\n",
    "\n",
    "**Merge nums1 and nums2 into a single array sorted in non-decreasing order.**\n",
    "\n",
    "**The final sorted array should not be returned by the function, but instead be stored inside the array nums1. To accommodate this, nums1 has a length of m + n, where the first m elements denote the elements that should be merged, and the last n elements are set to 0 and should be ignored. nums2 has a length of n.**\n",
    "\n",
    "**Example 1:**\n",
    "\n",
    "Input: nums1 = [1,2,3,0,0,0], m = 3, nums2 = [2,5,6], n = 3\n",
    "\n",
    "Output: [1,2,2,3,5,6]\n",
    "\n",
    "**Explanation:** The arrays we are merging are [1,2,3] and [2,5,6].\n",
    "The result of the merge is [1,2,2,3,5,6] with the underlined elements coming from nums1.\n"
   ]
  },
  {
   "cell_type": "code",
   "execution_count": 62,
   "id": "2b6cca7d",
   "metadata": {
    "scrolled": true
   },
   "outputs": [
    {
     "name": "stdout",
     "output_type": "stream",
     "text": [
      "Array after merging\n",
      "1 2 3 4 5 6 7 8 "
     ]
    }
   ],
   "source": [
    "def mergeArrays(arr1, arr2, n1, n2):\n",
    "    arr3 = [None] * (n1 + n2)\n",
    "    i = 0\n",
    "    j = 0\n",
    "    k = 0\n",
    " \n",
    "    # Traverse both array\n",
    "    while i < n1 and j < n2:\n",
    "        if arr1[i] < arr2[j]:\n",
    "            arr3[k] = arr1[i]\n",
    "            k = k + 1\n",
    "            i = i + 1\n",
    "        else:\n",
    "            arr3[k] = arr2[j]\n",
    "            k = k + 1\n",
    "            j = j + 1\n",
    "     \n",
    "    while i < n1:\n",
    "        arr3[k] = arr1[i];\n",
    "        k = k + 1\n",
    "        i = i + 1\n",
    " \n",
    "    while j < n2:\n",
    "        arr3[k] = arr2[j];\n",
    "        k = k + 1\n",
    "        j = j + 1\n",
    "    print(\"Array after merging\")\n",
    "    for i in range(n1 + n2):\n",
    "        print(str(arr3[i]), end = \" \")\n",
    " \n",
    "  \n",
    "arr1 = [1, 3, 5, 7]\n",
    "n1 = len(arr1)\n",
    " \n",
    "arr2 = [2, 4, 6, 8]\n",
    "n2 = len(arr2)\n",
    "mergeArrays(arr1, arr2, n1, n2)"
   ]
  },
  {
   "cell_type": "code",
   "execution_count": 99,
   "id": "cdd0764d",
   "metadata": {},
   "outputs": [],
   "source": [
    "class Solution:\n",
    "    def merge(self,nums1:list[int],m:int, nums2: list[int], n:int) -> None:\n",
    "        \n",
    "        last = m + n - 1\n",
    "        \n",
    "        while m> 0  and n > 0:\n",
    "            if nums1[m - 1]> nums2[n - 1]:\n",
    "                nums1[last] = nums1[m - 1]\n",
    "                m -= 1\n",
    "                \n",
    "            else:\n",
    "                nums1[last] = nums2[n - 1]\n",
    "                n -= 1\n",
    "            last -= 1\n",
    "            \n",
    "        while n> 0:\n",
    "            nums1[last] = nums2[n - 1]\n",
    "            n, last = n - 1, last -1"
   ]
  },
  {
   "cell_type": "code",
   "execution_count": null,
   "id": "65e59ab1",
   "metadata": {},
   "outputs": [],
   "source": []
  },
  {
   "cell_type": "markdown",
   "id": "edba564d",
   "metadata": {},
   "source": [
    "**6. Given an integer array nums, return true if any value appears at least twice in the array, and return false if every element is distinct.**\n",
    "\n",
    "**Example 1:**\n",
    "\n",
    "Input: nums = [1,2,3,1]\n",
    "\n",
    "Output: true\n"
   ]
  },
  {
   "cell_type": "code",
   "execution_count": 69,
   "id": "13572b23",
   "metadata": {},
   "outputs": [
    {
     "name": "stdout",
     "output_type": "stream",
     "text": [
      "Yes\n"
     ]
    }
   ],
   "source": [
    "def checkDuplicates(arr, n, k):\n",
    "    myset = []\n",
    " \n",
    "    for i in range(n):\n",
    "        if arr[i] in myset:\n",
    "            return True\n",
    " \n",
    "        myset.append(arr[i])\n",
    " \n",
    "        if (i >= k):\n",
    "            myset.remove(arr[i - k])\n",
    "    return False\n",
    " \n",
    "    \n",
    "if __name__ == \"__main__\":\n",
    "     \n",
    "    arr = [10, 5, 3, 4, 3, 5, 6]\n",
    "    n = len(arr)\n",
    "    if (checkDuplicates(arr, n, 3)):\n",
    "        print(\"Yes\")\n",
    "    else:\n",
    "        print(\"No\")"
   ]
  },
  {
   "cell_type": "code",
   "execution_count": 70,
   "id": "baa7a4c8",
   "metadata": {},
   "outputs": [
    {
     "name": "stdout",
     "output_type": "stream",
     "text": [
      "Yes\n"
     ]
    }
   ],
   "source": [
    "if __name__ == \"__main__\":\n",
    "     \n",
    "    arr = [1,2,3,1]\n",
    "    n = len(arr)\n",
    "    if (checkDuplicates(arr, n, 3)):\n",
    "        print(\"Yes\")\n",
    "    else:\n",
    "        print(\"No\")"
   ]
  },
  {
   "cell_type": "code",
   "execution_count": 71,
   "id": "6f777e97",
   "metadata": {},
   "outputs": [
    {
     "name": "stdout",
     "output_type": "stream",
     "text": [
      "No\n"
     ]
    }
   ],
   "source": [
    "if __name__ == \"__main__\":\n",
    "     \n",
    "    arr = [1,2,3]\n",
    "    n = len(arr)\n",
    "    if (checkDuplicates(arr, n, 3)):\n",
    "        print(\"Yes\")\n",
    "    else:\n",
    "        print(\"No\")"
   ]
  },
  {
   "cell_type": "code",
   "execution_count": null,
   "id": "1fcd117a",
   "metadata": {},
   "outputs": [],
   "source": []
  },
  {
   "cell_type": "markdown",
   "id": "b07440a8",
   "metadata": {},
   "source": [
    "**7.Given an integer array nums, move all 0's to the end of it while maintaining the relative order of the nonzero elements.**\n",
    "\n",
    "**Note that you must do this in-place without making a copy of the array.**\n",
    "\n",
    "**Example 1:**\n",
    "\n",
    "Input: nums = [0,1,0,3,12]\n",
    "\n",
    "Output: [1,3,12,0,0]\n"
   ]
  },
  {
   "cell_type": "code",
   "execution_count": 74,
   "id": "6523ec67",
   "metadata": {},
   "outputs": [
    {
     "name": "stdout",
     "output_type": "stream",
     "text": [
      "Array after pushing all zeros to end of array:\n",
      "[1, 3, 12, 0, 0]\n",
      "Array after pushing all zeros to end of array:\n",
      "[1, 9, 8, 4, 2, 7, 6, 0, 0, 0]\n"
     ]
    }
   ],
   "source": [
    "def ZerosToEnd(arr, n):\n",
    "    count = 0 \n",
    "    \n",
    "    for i in range(n):\n",
    "        if arr[i] != 0:\n",
    "            arr[count] = arr[i]\n",
    "            count+=1\n",
    "     \n",
    "    while count < n:\n",
    "        arr[count] = 0\n",
    "        count += 1\n",
    "\n",
    "arr = [0,1,0,3,12]\n",
    "n = len(arr)\n",
    "ZerosToEnd(arr, n)\n",
    "print(\"Array after pushing all zeros to end of array:\")\n",
    "print(arr)        \n",
    "        \n",
    "arr = [1,9,8,4,0,0,2,7,0,6]\n",
    "n = len(arr)\n",
    "ZerosToEnd(arr, n)\n",
    "print(\"Array after pushing all zeros to end of array:\")\n",
    "print(arr)"
   ]
  },
  {
   "cell_type": "code",
   "execution_count": null,
   "id": "96259056",
   "metadata": {},
   "outputs": [],
   "source": []
  },
  {
   "cell_type": "markdown",
   "id": "9d67801d",
   "metadata": {},
   "source": [
    "**8. You have a set of integers s, which originally contains all the numbers from 1 to n. Unfortunately, due to some error, one of the numbers in s got duplicated to another number in the set, which results in repetition of one number and loss of another number.**\n",
    "\n",
    "**You are given an integer array nums representing the data status of this set after the error.**\n",
    "\n",
    "**Find the number that occurs twice and the number that is missing and return them in the form of an array.**\n",
    "\n",
    "**Example 1:**\n",
    "\n",
    "Input: nums = [1,2,2,4]\n",
    "\n",
    "Output: [2,3]"
   ]
  },
  {
   "cell_type": "code",
   "execution_count": 84,
   "id": "49db4e52",
   "metadata": {},
   "outputs": [
    {
     "name": "stdout",
     "output_type": "stream",
     "text": [
      "The repeating element is 2\n",
      "and the missing element is 3\n",
      "None\n",
      "The repeating element is 5\n",
      "and the missing element is 1\n",
      "None\n"
     ]
    }
   ],
   "source": [
    "def TwoElements(arr,n):\n",
    "    \n",
    "    arr.sort()\n",
    "    print(\"The repeating element is\",end=\" \")\n",
    "    for i in range(0, n - 1):\n",
    "        if(arr[i] == arr[i + 1]):\n",
    "            print(arr[i])\n",
    "            break\n",
    " \n",
    "    print(\"and the missing element is\",end=\" \")\n",
    "    for i in range(1, n + 1):\n",
    "        if(i != arr[i - 1]):\n",
    "            print(i)\n",
    "            break\n",
    " \n",
    "  \n",
    "arr = [1,2,2,4]\n",
    "n = len(arr)\n",
    "a = TwoElements(arr, n)\n",
    "print(a)  \n",
    "arr = [7,3,4,5,5,6,2]\n",
    "n = len(arr)\n",
    "b = TwoElements(arr, n)\n",
    "print(b)"
   ]
  }
 ],
 "metadata": {
  "kernelspec": {
   "display_name": "Python 3 (ipykernel)",
   "language": "python",
   "name": "python3"
  },
  "language_info": {
   "codemirror_mode": {
    "name": "ipython",
    "version": 3
   },
   "file_extension": ".py",
   "mimetype": "text/x-python",
   "name": "python",
   "nbconvert_exporter": "python",
   "pygments_lexer": "ipython3",
   "version": "3.9.12"
  }
 },
 "nbformat": 4,
 "nbformat_minor": 5
}
